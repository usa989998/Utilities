{
 "cells": [
  {
   "cell_type": "markdown",
   "metadata": {},
   "source": [
    "### Directory and File Handling\n",
    "\n",
    "Iterate over C:\\Personal\\My Documents\\Personal\\eBooks"
   ]
  },
  {
   "cell_type": "code",
   "execution_count": 1,
   "metadata": {},
   "outputs": [],
   "source": [
    "\n",
    "from os import walk\n",
    "\n",
    "mypath = \"C:\\Personal\\My Documents\\Personal\\eBooks\"\n",
    "\n",
    "f = []\n",
    "for (dirpath, dirnames, filenames) in walk(mypath):\n",
    "    f.extend(filenames)\n",
    "    break"
   ]
  },
  {
   "cell_type": "code",
   "execution_count": 2,
   "metadata": {},
   "outputs": [
    {
     "data": {
      "text/plain": [
       "['Derivatives Demystified.pdf',\n",
       " 'Energy Derivatives.pdf',\n",
       " 'Enterprise Risk Management.pdf',\n",
       " 'Ian Goodfellow, Yoshua Bengio, Aaron Courville - Deep Learning-The MIT Press (2016).pdf',\n",
       " 'Linear Algebra & Its Applications - 4th Edition.pdf',\n",
       " 'Market_Risk_Analysis.pdf',\n",
       " 'Options Futures and Other Derivatives.pdf',\n",
       " 'Options, Futures, and Other Derivatives, 8th Ed. Solutions Manual.pdf',\n",
       " 'Practical Spreadsheet Risk Modeling for Management.pdf',\n",
       " 'Pricing and Hedging Financial Derivatives.pdf',\n",
       " 'Python for Data Analysis.pdf',\n",
       " 'Time Series Analysis and its Applications with R Examples - Springer (3rd Edition).pdf',\n",
       " 'TimeSeries Analysis and its Applications (Springer).pdf',\n",
       " 'TimeSeries Analysis and its Applications - Springer (4th Edition).pdf',\n",
       " 'tsa3.pdf']"
      ]
     },
     "execution_count": 2,
     "metadata": {},
     "output_type": "execute_result"
    }
   ],
   "source": [
    "f"
   ]
  },
  {
   "cell_type": "code",
   "execution_count": 4,
   "metadata": {},
   "outputs": [
    {
     "name": "stdout",
     "output_type": "stream",
     "text": [
      "['C:\\\\Personal\\\\My Documents\\\\Personal\\\\eBooks\\\\Derivatives Demystified.pdf', 'C:\\\\Personal\\\\My Documents\\\\Personal\\\\eBooks\\\\dlfeb.com.Introduction.to.Derivatives.and.Risk.Management.with.Stock.Trak.Coupon', 'C:\\\\Personal\\\\My Documents\\\\Personal\\\\eBooks\\\\Energy Derivatives.pdf', 'C:\\\\Personal\\\\My Documents\\\\Personal\\\\eBooks\\\\Enterprise Risk Management.pdf', 'C:\\\\Personal\\\\My Documents\\\\Personal\\\\eBooks\\\\Ian Goodfellow, Yoshua Bengio, Aaron Courville - Deep Learning-The MIT Press (2016).pdf', 'C:\\\\Personal\\\\My Documents\\\\Personal\\\\eBooks\\\\Linear Algebra & Its Applications - 4th Edition.pdf', 'C:\\\\Personal\\\\My Documents\\\\Personal\\\\eBooks\\\\Market_Risk_Analysis.pdf', 'C:\\\\Personal\\\\My Documents\\\\Personal\\\\eBooks\\\\Options Futures and Other Derivatives.pdf', 'C:\\\\Personal\\\\My Documents\\\\Personal\\\\eBooks\\\\Options, Futures, and Other Derivatives, 8th Ed. Solutions Manual.pdf', 'C:\\\\Personal\\\\My Documents\\\\Personal\\\\eBooks\\\\Practical Spreadsheet Risk Modeling for Management.pdf', 'C:\\\\Personal\\\\My Documents\\\\Personal\\\\eBooks\\\\Pricing and Hedging Financial Derivatives.pdf', 'C:\\\\Personal\\\\My Documents\\\\Personal\\\\eBooks\\\\Python for Data Analysis.pdf', 'C:\\\\Personal\\\\My Documents\\\\Personal\\\\eBooks\\\\ta-lib-0.4.0-msvc', 'C:\\\\Personal\\\\My Documents\\\\Personal\\\\eBooks\\\\Time Series Analysis and its Applications with R Examples - Springer (3rd Edition).pdf', 'C:\\\\Personal\\\\My Documents\\\\Personal\\\\eBooks\\\\TimeSeries Analysis and its Applications (Springer).pdf', 'C:\\\\Personal\\\\My Documents\\\\Personal\\\\eBooks\\\\TimeSeries Analysis and its Applications - Springer (4th Edition).pdf', 'C:\\\\Personal\\\\My Documents\\\\Personal\\\\eBooks\\\\tsa3.pdf', 'C:\\\\Personal\\\\My Documents\\\\Personal\\\\eBooks\\\\ultraFinance-0.0.2']\n"
     ]
    }
   ],
   "source": [
    "import glob\n",
    "print(glob.glob(\"C:\\Personal\\My Documents\\Personal\\eBooks\\*.*\"))"
   ]
  },
  {
   "cell_type": "markdown",
   "metadata": {},
   "source": [
    "#### List of Directory and Files only in the main directory"
   ]
  },
  {
   "cell_type": "code",
   "execution_count": 6,
   "metadata": {},
   "outputs": [
    {
     "name": "stdout",
     "output_type": "stream",
     "text": [
      "['Ben', 'Bridgewater Associates', 'CFA', 'Deep Learning', 'Derivatives Demystified.pdf', 'Derivatives Markets and Analysis-Bloomberg Press (2017)', 'dlfeb.com.Introduction.to.Derivatives.and.Risk.Management.with.Stock.Trak.Coupon', 'Energy Derivatives.pdf', 'Enterprise Risk Management.pdf', 'FRM', 'Ian Goodfellow, Yoshua Bengio, Aaron Courville - Deep Learning-The MIT Press (2016).pdf', 'Linear Algebra & Its Applications - 4th Edition.pdf', 'Market_Risk_Analysis.pdf', 'Mathematics in Minutes 200 Key Concepts Explained In An Instant (Knowledge in a Flash)', 'Options Futures and Other Derivatives.pdf', 'Options, Futures, and Other Derivatives, 8th Ed. Solutions Manual.pdf', 'Practical Spreadsheet Risk Modeling for Management.pdf', 'Pricing and Hedging Financial Derivatives.pdf', 'Private Equity', 'Python', 'Python for Data Analysis.pdf', 'Python-Automate Boring Tasks', 'Python-Real World Application', 'ta-lib-0.4.0-msvc', 'The 100 Best Business Books of All Time What They Say, Why They Matter, and How They Can Help You (2016) [WWRG]', 'Time Series Analysis and its Applications with R Examples - Springer (3rd Edition).pdf', 'TimeSeries Analysis and its Applications (Springer).pdf', 'TimeSeries Analysis and its Applications - Springer (4th Edition).pdf', 'Trading', 'tsa3.pdf', 'ultraFinance-0.0.2']\n"
     ]
    }
   ],
   "source": [
    "import os as os \n",
    "arr = os.listdir(mypath)\n",
    "print (arr)"
   ]
  },
  {
   "cell_type": "code",
   "execution_count": 7,
   "metadata": {},
   "outputs": [
    {
     "name": "stdout",
     "output_type": "stream",
     "text": [
      "['D:\\\\Python_Projects\\\\Back_to_Basics\\\\Ben', 'D:\\\\Python_Projects\\\\Back_to_Basics\\\\Bridgewater Associates', 'D:\\\\Python_Projects\\\\Back_to_Basics\\\\CFA', 'D:\\\\Python_Projects\\\\Back_to_Basics\\\\Deep Learning', 'D:\\\\Python_Projects\\\\Back_to_Basics\\\\Derivatives Demystified.pdf', 'D:\\\\Python_Projects\\\\Back_to_Basics\\\\Derivatives Markets and Analysis-Bloomberg Press (2017)', 'D:\\\\Python_Projects\\\\Back_to_Basics\\\\dlfeb.com.Introduction.to.Derivatives.and.Risk.Management.with.Stock.Trak.Coupon', 'D:\\\\Python_Projects\\\\Back_to_Basics\\\\Energy Derivatives.pdf', 'D:\\\\Python_Projects\\\\Back_to_Basics\\\\Enterprise Risk Management.pdf', 'D:\\\\Python_Projects\\\\Back_to_Basics\\\\FRM', 'D:\\\\Python_Projects\\\\Back_to_Basics\\\\Ian Goodfellow, Yoshua Bengio, Aaron Courville - Deep Learning-The MIT Press (2016).pdf', 'D:\\\\Python_Projects\\\\Back_to_Basics\\\\Linear Algebra & Its Applications - 4th Edition.pdf', 'D:\\\\Python_Projects\\\\Back_to_Basics\\\\Market_Risk_Analysis.pdf', 'D:\\\\Python_Projects\\\\Back_to_Basics\\\\Mathematics in Minutes 200 Key Concepts Explained In An Instant (Knowledge in a Flash)', 'D:\\\\Python_Projects\\\\Back_to_Basics\\\\Options Futures and Other Derivatives.pdf', 'D:\\\\Python_Projects\\\\Back_to_Basics\\\\Options, Futures, and Other Derivatives, 8th Ed. Solutions Manual.pdf', 'D:\\\\Python_Projects\\\\Back_to_Basics\\\\Practical Spreadsheet Risk Modeling for Management.pdf', 'D:\\\\Python_Projects\\\\Back_to_Basics\\\\Pricing and Hedging Financial Derivatives.pdf', 'D:\\\\Python_Projects\\\\Back_to_Basics\\\\Private Equity', 'D:\\\\Python_Projects\\\\Back_to_Basics\\\\Python', 'D:\\\\Python_Projects\\\\Back_to_Basics\\\\Python for Data Analysis.pdf', 'D:\\\\Python_Projects\\\\Back_to_Basics\\\\Python-Automate Boring Tasks', 'D:\\\\Python_Projects\\\\Back_to_Basics\\\\Python-Real World Application', 'D:\\\\Python_Projects\\\\Back_to_Basics\\\\ta-lib-0.4.0-msvc', 'D:\\\\Python_Projects\\\\Back_to_Basics\\\\The 100 Best Business Books of All Time What They Say, Why They Matter, and How They Can Help You (2016) [WWRG]', 'D:\\\\Python_Projects\\\\Back_to_Basics\\\\Time Series Analysis and its Applications with R Examples - Springer (3rd Edition).pdf', 'D:\\\\Python_Projects\\\\Back_to_Basics\\\\TimeSeries Analysis and its Applications (Springer).pdf', 'D:\\\\Python_Projects\\\\Back_to_Basics\\\\TimeSeries Analysis and its Applications - Springer (4th Edition).pdf', 'D:\\\\Python_Projects\\\\Back_to_Basics\\\\Trading', 'D:\\\\Python_Projects\\\\Back_to_Basics\\\\tsa3.pdf', 'D:\\\\Python_Projects\\\\Back_to_Basics\\\\ultraFinance-0.0.2']\n"
     ]
    }
   ],
   "source": [
    "files_path = [os.path.abspath(x) for x in os.listdir(mypath)]\n",
    "print(files_path)"
   ]
  },
  {
   "cell_type": "code",
   "execution_count": 8,
   "metadata": {},
   "outputs": [
    {
     "data": {
      "text/plain": [
       "['D:\\\\Python_Projects\\\\Back_to_Basics\\\\Ben',\n",
       " 'D:\\\\Python_Projects\\\\Back_to_Basics\\\\Bridgewater Associates',\n",
       " 'D:\\\\Python_Projects\\\\Back_to_Basics\\\\CFA',\n",
       " 'D:\\\\Python_Projects\\\\Back_to_Basics\\\\Deep Learning',\n",
       " 'D:\\\\Python_Projects\\\\Back_to_Basics\\\\Derivatives Demystified.pdf',\n",
       " 'D:\\\\Python_Projects\\\\Back_to_Basics\\\\Derivatives Markets and Analysis-Bloomberg Press (2017)',\n",
       " 'D:\\\\Python_Projects\\\\Back_to_Basics\\\\dlfeb.com.Introduction.to.Derivatives.and.Risk.Management.with.Stock.Trak.Coupon',\n",
       " 'D:\\\\Python_Projects\\\\Back_to_Basics\\\\Energy Derivatives.pdf',\n",
       " 'D:\\\\Python_Projects\\\\Back_to_Basics\\\\Enterprise Risk Management.pdf',\n",
       " 'D:\\\\Python_Projects\\\\Back_to_Basics\\\\FRM',\n",
       " 'D:\\\\Python_Projects\\\\Back_to_Basics\\\\Ian Goodfellow, Yoshua Bengio, Aaron Courville - Deep Learning-The MIT Press (2016).pdf',\n",
       " 'D:\\\\Python_Projects\\\\Back_to_Basics\\\\Linear Algebra & Its Applications - 4th Edition.pdf',\n",
       " 'D:\\\\Python_Projects\\\\Back_to_Basics\\\\Market_Risk_Analysis.pdf',\n",
       " 'D:\\\\Python_Projects\\\\Back_to_Basics\\\\Mathematics in Minutes 200 Key Concepts Explained In An Instant (Knowledge in a Flash)',\n",
       " 'D:\\\\Python_Projects\\\\Back_to_Basics\\\\Options Futures and Other Derivatives.pdf',\n",
       " 'D:\\\\Python_Projects\\\\Back_to_Basics\\\\Options, Futures, and Other Derivatives, 8th Ed. Solutions Manual.pdf',\n",
       " 'D:\\\\Python_Projects\\\\Back_to_Basics\\\\Practical Spreadsheet Risk Modeling for Management.pdf',\n",
       " 'D:\\\\Python_Projects\\\\Back_to_Basics\\\\Pricing and Hedging Financial Derivatives.pdf',\n",
       " 'D:\\\\Python_Projects\\\\Back_to_Basics\\\\Private Equity',\n",
       " 'D:\\\\Python_Projects\\\\Back_to_Basics\\\\Python',\n",
       " 'D:\\\\Python_Projects\\\\Back_to_Basics\\\\Python for Data Analysis.pdf',\n",
       " 'D:\\\\Python_Projects\\\\Back_to_Basics\\\\Python-Automate Boring Tasks',\n",
       " 'D:\\\\Python_Projects\\\\Back_to_Basics\\\\Python-Real World Application',\n",
       " 'D:\\\\Python_Projects\\\\Back_to_Basics\\\\ta-lib-0.4.0-msvc',\n",
       " 'D:\\\\Python_Projects\\\\Back_to_Basics\\\\The 100 Best Business Books of All Time What They Say, Why They Matter, and How They Can Help You (2016) [WWRG]',\n",
       " 'D:\\\\Python_Projects\\\\Back_to_Basics\\\\Time Series Analysis and its Applications with R Examples - Springer (3rd Edition).pdf',\n",
       " 'D:\\\\Python_Projects\\\\Back_to_Basics\\\\TimeSeries Analysis and its Applications (Springer).pdf',\n",
       " 'D:\\\\Python_Projects\\\\Back_to_Basics\\\\TimeSeries Analysis and its Applications - Springer (4th Edition).pdf',\n",
       " 'D:\\\\Python_Projects\\\\Back_to_Basics\\\\Trading',\n",
       " 'D:\\\\Python_Projects\\\\Back_to_Basics\\\\tsa3.pdf',\n",
       " 'D:\\\\Python_Projects\\\\Back_to_Basics\\\\ultraFinance-0.0.2']"
      ]
     },
     "execution_count": 8,
     "metadata": {},
     "output_type": "execute_result"
    }
   ],
   "source": [
    "files_path"
   ]
  },
  {
   "cell_type": "markdown",
   "metadata": {},
   "source": [
    "#### Directory and Sub-Directory "
   ]
  },
  {
   "cell_type": "code",
   "execution_count": 10,
   "metadata": {},
   "outputs": [],
   "source": [
    "import os\n",
    "\n",
    "# Getting the current work directory (cwd)\n",
    "#thisdir = os.getcwd()\n",
    "\n",
    "thisdir = mypath\n",
    "collection = []\n",
    "\n",
    "# r=root, d=directories, f = files\n",
    "for r, d, f in os.walk(thisdir):\n",
    "    for file in f:\n",
    "        if file.endswith(\".pdf\"):\n",
    "            collection.append(os.path.join(r, file)) "
   ]
  },
  {
   "cell_type": "code",
   "execution_count": 12,
   "metadata": {},
   "outputs": [
    {
     "data": {
      "text/plain": [
       "1964"
      ]
     },
     "execution_count": 12,
     "metadata": {},
     "output_type": "execute_result"
    }
   ],
   "source": [
    "len(collection)"
   ]
  },
  {
   "cell_type": "code",
   "execution_count": 16,
   "metadata": {},
   "outputs": [],
   "source": [
    "collection.sort()"
   ]
  },
  {
   "cell_type": "code",
   "execution_count": 19,
   "metadata": {},
   "outputs": [
    {
     "data": {
      "text/plain": [
       "['C:\\\\Personal\\\\My Documents\\\\Personal\\\\eBooks\\\\Ben\\\\PMP\\\\Head First PMP mock exam.pdf',\n",
       " 'C:\\\\Personal\\\\My Documents\\\\Personal\\\\eBooks\\\\Ben\\\\PMP\\\\Head First PMP.pdf',\n",
       " 'C:\\\\Personal\\\\My Documents\\\\Personal\\\\eBooks\\\\Bridgewater Associates\\\\Principles_ Life and Work ( PDFDrive.com ).pdf',\n",
       " 'C:\\\\Personal\\\\My Documents\\\\Personal\\\\eBooks\\\\CFA\\\\CFA\\\\L1_2019\\\\2018-Level-I-Formula-Sheet-1.pdf',\n",
       " 'C:\\\\Personal\\\\My Documents\\\\Personal\\\\eBooks\\\\CFA\\\\CFA\\\\L1_2019\\\\2019 CFA Level I Schweser Secret Sauce.pdf',\n",
       " 'C:\\\\Personal\\\\My Documents\\\\Personal\\\\eBooks\\\\CFA\\\\CFA\\\\L1_2019\\\\CFA-Level 1-2019-curriculum updates.pdf',\n",
       " 'C:\\\\Personal\\\\My Documents\\\\Personal\\\\eBooks\\\\CFA\\\\CFA\\\\L1_2019\\\\Curriculum\\\\CFA Program Curriculum Level I Vol 1.pdf',\n",
       " 'C:\\\\Personal\\\\My Documents\\\\Personal\\\\eBooks\\\\CFA\\\\CFA\\\\L1_2019\\\\Curriculum\\\\CFA Program Curriculum Level I Vol 2.pdf',\n",
       " 'C:\\\\Personal\\\\My Documents\\\\Personal\\\\eBooks\\\\CFA\\\\CFA\\\\L1_2019\\\\Curriculum\\\\CFA Program Curriculum Level I Vol 3.pdf',\n",
       " 'C:\\\\Personal\\\\My Documents\\\\Personal\\\\eBooks\\\\CFA\\\\CFA\\\\L1_2019\\\\Curriculum\\\\CFA Program Curriculum Level I Vol 4.pdf']"
      ]
     },
     "execution_count": 19,
     "metadata": {},
     "output_type": "execute_result"
    }
   ],
   "source": [
    "collection[:10]"
   ]
  },
  {
   "cell_type": "code",
   "execution_count": null,
   "metadata": {},
   "outputs": [],
   "source": []
  }
 ],
 "metadata": {
  "kernelspec": {
   "display_name": "Python 3",
   "language": "python",
   "name": "python3"
  },
  "language_info": {
   "codemirror_mode": {
    "name": "ipython",
    "version": 3
   },
   "file_extension": ".py",
   "mimetype": "text/x-python",
   "name": "python",
   "nbconvert_exporter": "python",
   "pygments_lexer": "ipython3",
   "version": "3.8.3"
  }
 },
 "nbformat": 4,
 "nbformat_minor": 4
}
