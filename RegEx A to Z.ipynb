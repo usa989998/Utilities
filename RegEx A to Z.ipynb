{
 "cells": [
  {
   "cell_type": "markdown",
   "metadata": {},
   "source": [
    "#### Regex Review.\n",
    "\n",
    "Following Symbols have special meaning in Regex patterns.\n",
    "RegEx is short for Regular Expression which means a pattern to look for in a particular string\n",
    "\n",
    "•\t The ? matches zero or one of the preceding group.\n",
    "\n",
    "•\t The * matches zero or more of the preceding group.\n",
    "\n",
    "•\t The + matches one or more of the preceding group.\n",
    "\n",
    "•\t The {n} matches exactly n of the preceding group.\n",
    "\n",
    "•\t The {n,} matches n or more of the preceding group.\n",
    "\n",
    "•\t The {,m} matches 0 to m of the preceding group.\n",
    "\n",
    "•\t The {n,m} matches at least n and at most m of the preceding group.\n",
    "\n",
    "•\t {n,m}? or *? or +? performs a non-greedy match of the preceding group.\n",
    "\n",
    "•\t ^spam means the string must begin with spam.\n",
    "\n",
    "•\t spam$ means the string must end with spam.\n",
    "\n",
    "•\t The . matches any character, except newline characters.\n",
    "\n",
    "•\t \\d, \\w, and \\s match a digit, word, or space character, respectively.\n",
    "\n",
    "•\t \\D, \\W, and \\S match anything except a digit, word, or space character,\n",
    "respectively.\n",
    "\n",
    "•\t [abc] matches any character between the brackets (such as a, b, or c).\n",
    "\n",
    "•\t [^abc] matches any character that isn’t between the brackets"
   ]
  },
  {
   "cell_type": "markdown",
   "metadata": {},
   "source": [
    "\n",
    "\n",
    "\n",
    "### Patterns Examples\n",
    "'abc'                 # Matches the literal 'abc'\n",
    "\n",
    "r'\\w+'                # Matches a word\n",
    "\n",
    "r'\\d+\\s\\w+'           # Matches '1555 dogs'\n",
    "\n",
    "r'\\d+-\\d+-\\d+\\s.+'    # Matches '2005-12-05 Jons birthday'\n",
    "\n",
    "r'\\s+'                # Matches any number of whitespace\n"
   ]
  },
  {
   "cell_type": "markdown",
   "metadata": {},
   "source": [
    "\n",
    "\n",
    "\n",
    "### Re Module \n",
    "\n",
    "re.search (<regex>, <string>)\n",
    "\n",
    "    \n",
    "#### Import re as Regex module and lets start practice"
   ]
  },
  {
   "cell_type": "code",
   "execution_count": 3,
   "metadata": {},
   "outputs": [],
   "source": [
    "import re as re"
   ]
  },
  {
   "cell_type": "code",
   "execution_count": 58,
   "metadata": {},
   "outputs": [],
   "source": [
    "text_to_search = '''\n",
    "abcdefghijklmnopqrstuvwxyz\n",
    "ABCDEFGHIJKLMNOPQRSTUVWXYZ\n",
    "1234567890\n",
    "\n",
    "Ha HaHa\n",
    "\n",
    "MetaCharacters (Need to be Escaped during Search)\n",
    "\n",
    ". ^ $ * + ? { } [] \\ | ( )\n",
    "\n",
    "nitinrana.blogspot.com \n",
    "\n",
    "123-456-7890\n",
    "123.123.4567\n",
    "123*369*4567\n",
    "123+369-4567\n",
    "800.123.4567\n",
    "900.555.4567\n",
    "\n",
    "Mr. Nitin \n",
    "Mr Nitin_Rana\n",
    "\n",
    "Ms Smith\n",
    "Mr Rana \n",
    "Mrs Rana \n",
    "\n",
    "Mr. T\n",
    "\n",
    "cat\n",
    "mat\n",
    "pat\n",
    "bat\n",
    "\n",
    "'''\n"
   ]
  },
  {
   "cell_type": "markdown",
   "metadata": {},
   "source": [
    "\n",
    "\n",
    "### Raw String in Python is a special string that tells Python not to treat \\ (backslash) in any special manner"
   ]
  },
  {
   "cell_type": "code",
   "execution_count": 8,
   "metadata": {},
   "outputs": [
    {
     "name": "stdout",
     "output_type": "stream",
     "text": [
      "\tTab\n"
     ]
    }
   ],
   "source": [
    "print('\\tTab') ## Will Show a Tab"
   ]
  },
  {
   "cell_type": "markdown",
   "metadata": {},
   "source": [
    "#### Store the String Pattern in a local variable using re.compile () which can be used later for further searches in Python\n"
   ]
  },
  {
   "cell_type": "code",
   "execution_count": 9,
   "metadata": {},
   "outputs": [
    {
     "name": "stdout",
     "output_type": "stream",
     "text": [
      "<re.Match object; span=(1, 4), match='abc'>\n"
     ]
    }
   ],
   "source": [
    "pattern = re.compile(r'abc') # Always use Raw String \n",
    "\n",
    "matches = pattern.finditer(text_to_search) ## finditer() will help to find all matches \n",
    "\n",
    "for match in matches:\n",
    "    print (match)"
   ]
  },
  {
   "cell_type": "code",
   "execution_count": 10,
   "metadata": {},
   "outputs": [
    {
     "name": "stdout",
     "output_type": "stream",
     "text": [
      "abc\n"
     ]
    }
   ],
   "source": [
    "# Span gives the start and end index location\n",
    "print(text_to_search[1:4])"
   ]
  },
  {
   "cell_type": "code",
   "execution_count": 12,
   "metadata": {},
   "outputs": [
    {
     "name": "stdout",
     "output_type": "stream",
     "text": [
      "<re.Match object; span=(1, 2), match='a'>\n",
      "<re.Match object; span=(2, 3), match='b'>\n",
      "<re.Match object; span=(3, 4), match='c'>\n",
      "<re.Match object; span=(4, 5), match='d'>\n",
      "<re.Match object; span=(5, 6), match='e'>\n",
      "<re.Match object; span=(6, 7), match='f'>\n",
      "<re.Match object; span=(7, 8), match='g'>\n",
      "<re.Match object; span=(8, 9), match='h'>\n",
      "<re.Match object; span=(9, 10), match='i'>\n",
      "<re.Match object; span=(10, 11), match='j'>\n",
      "<re.Match object; span=(11, 12), match='k'>\n",
      "<re.Match object; span=(12, 13), match='l'>\n",
      "<re.Match object; span=(13, 14), match='m'>\n",
      "<re.Match object; span=(14, 15), match='n'>\n",
      "<re.Match object; span=(15, 16), match='o'>\n",
      "<re.Match object; span=(16, 17), match='p'>\n",
      "<re.Match object; span=(17, 18), match='q'>\n",
      "<re.Match object; span=(18, 19), match='r'>\n",
      "<re.Match object; span=(19, 20), match='s'>\n",
      "<re.Match object; span=(20, 21), match='t'>\n",
      "<re.Match object; span=(21, 22), match='u'>\n",
      "<re.Match object; span=(22, 23), match='v'>\n",
      "<re.Match object; span=(23, 24), match='w'>\n",
      "<re.Match object; span=(24, 25), match='x'>\n",
      "<re.Match object; span=(25, 26), match='y'>\n",
      "<re.Match object; span=(26, 27), match='z'>\n",
      "<re.Match object; span=(28, 29), match='A'>\n",
      "<re.Match object; span=(29, 30), match='B'>\n",
      "<re.Match object; span=(30, 31), match='C'>\n",
      "<re.Match object; span=(31, 32), match='D'>\n",
      "<re.Match object; span=(32, 33), match='E'>\n",
      "<re.Match object; span=(33, 34), match='F'>\n",
      "<re.Match object; span=(34, 35), match='G'>\n",
      "<re.Match object; span=(35, 36), match='H'>\n",
      "<re.Match object; span=(36, 37), match='I'>\n",
      "<re.Match object; span=(37, 38), match='J'>\n",
      "<re.Match object; span=(38, 39), match='K'>\n",
      "<re.Match object; span=(39, 40), match='L'>\n",
      "<re.Match object; span=(40, 41), match='M'>\n",
      "<re.Match object; span=(41, 42), match='N'>\n",
      "<re.Match object; span=(42, 43), match='O'>\n",
      "<re.Match object; span=(43, 44), match='P'>\n",
      "<re.Match object; span=(44, 45), match='Q'>\n",
      "<re.Match object; span=(45, 46), match='R'>\n",
      "<re.Match object; span=(46, 47), match='S'>\n",
      "<re.Match object; span=(47, 48), match='T'>\n",
      "<re.Match object; span=(48, 49), match='U'>\n",
      "<re.Match object; span=(49, 50), match='V'>\n",
      "<re.Match object; span=(50, 51), match='W'>\n",
      "<re.Match object; span=(51, 52), match='X'>\n",
      "<re.Match object; span=(52, 53), match='Y'>\n",
      "<re.Match object; span=(53, 54), match='Z'>\n",
      "<re.Match object; span=(55, 56), match='1'>\n",
      "<re.Match object; span=(56, 57), match='2'>\n",
      "<re.Match object; span=(57, 58), match='3'>\n",
      "<re.Match object; span=(58, 59), match='4'>\n",
      "<re.Match object; span=(59, 60), match='5'>\n",
      "<re.Match object; span=(60, 61), match='6'>\n",
      "<re.Match object; span=(61, 62), match='7'>\n",
      "<re.Match object; span=(62, 63), match='8'>\n",
      "<re.Match object; span=(63, 64), match='9'>\n",
      "<re.Match object; span=(64, 65), match='0'>\n",
      "<re.Match object; span=(67, 68), match='H'>\n",
      "<re.Match object; span=(68, 69), match='a'>\n",
      "<re.Match object; span=(69, 70), match=' '>\n",
      "<re.Match object; span=(70, 71), match='H'>\n",
      "<re.Match object; span=(71, 72), match='a'>\n",
      "<re.Match object; span=(72, 73), match='H'>\n",
      "<re.Match object; span=(73, 74), match='a'>\n",
      "<re.Match object; span=(76, 77), match='M'>\n",
      "<re.Match object; span=(77, 78), match='e'>\n",
      "<re.Match object; span=(78, 79), match='t'>\n",
      "<re.Match object; span=(79, 80), match='a'>\n",
      "<re.Match object; span=(80, 81), match='C'>\n",
      "<re.Match object; span=(81, 82), match='h'>\n",
      "<re.Match object; span=(82, 83), match='a'>\n",
      "<re.Match object; span=(83, 84), match='r'>\n",
      "<re.Match object; span=(84, 85), match='a'>\n",
      "<re.Match object; span=(85, 86), match='c'>\n",
      "<re.Match object; span=(86, 87), match='t'>\n",
      "<re.Match object; span=(87, 88), match='e'>\n",
      "<re.Match object; span=(88, 89), match='r'>\n",
      "<re.Match object; span=(89, 90), match='s'>\n",
      "<re.Match object; span=(90, 91), match=' '>\n",
      "<re.Match object; span=(91, 92), match='('>\n",
      "<re.Match object; span=(92, 93), match='N'>\n",
      "<re.Match object; span=(93, 94), match='e'>\n",
      "<re.Match object; span=(94, 95), match='e'>\n",
      "<re.Match object; span=(95, 96), match='d'>\n",
      "<re.Match object; span=(96, 97), match=' '>\n",
      "<re.Match object; span=(97, 98), match='t'>\n",
      "<re.Match object; span=(98, 99), match='o'>\n",
      "<re.Match object; span=(99, 100), match=' '>\n",
      "<re.Match object; span=(100, 101), match='b'>\n",
      "<re.Match object; span=(101, 102), match='e'>\n",
      "<re.Match object; span=(102, 103), match=' '>\n",
      "<re.Match object; span=(103, 104), match='E'>\n",
      "<re.Match object; span=(104, 105), match='s'>\n",
      "<re.Match object; span=(105, 106), match='c'>\n",
      "<re.Match object; span=(106, 107), match='a'>\n",
      "<re.Match object; span=(107, 108), match='p'>\n",
      "<re.Match object; span=(108, 109), match='e'>\n",
      "<re.Match object; span=(109, 110), match='d'>\n",
      "<re.Match object; span=(110, 111), match=' '>\n",
      "<re.Match object; span=(111, 112), match='d'>\n",
      "<re.Match object; span=(112, 113), match='u'>\n",
      "<re.Match object; span=(113, 114), match='r'>\n",
      "<re.Match object; span=(114, 115), match='i'>\n",
      "<re.Match object; span=(115, 116), match='n'>\n",
      "<re.Match object; span=(116, 117), match='g'>\n",
      "<re.Match object; span=(117, 118), match=' '>\n",
      "<re.Match object; span=(118, 119), match='S'>\n",
      "<re.Match object; span=(119, 120), match='e'>\n",
      "<re.Match object; span=(120, 121), match='a'>\n",
      "<re.Match object; span=(121, 122), match='r'>\n",
      "<re.Match object; span=(122, 123), match='c'>\n",
      "<re.Match object; span=(123, 124), match='h'>\n",
      "<re.Match object; span=(124, 125), match=')'>\n",
      "<re.Match object; span=(127, 128), match='.'>\n",
      "<re.Match object; span=(128, 129), match=' '>\n",
      "<re.Match object; span=(129, 130), match='^'>\n",
      "<re.Match object; span=(130, 131), match=' '>\n",
      "<re.Match object; span=(131, 132), match='$'>\n",
      "<re.Match object; span=(132, 133), match=' '>\n",
      "<re.Match object; span=(133, 134), match='*'>\n",
      "<re.Match object; span=(134, 135), match=' '>\n",
      "<re.Match object; span=(135, 136), match='+'>\n",
      "<re.Match object; span=(136, 137), match=' '>\n",
      "<re.Match object; span=(137, 138), match='?'>\n",
      "<re.Match object; span=(138, 139), match=' '>\n",
      "<re.Match object; span=(139, 140), match='{'>\n",
      "<re.Match object; span=(140, 141), match=' '>\n",
      "<re.Match object; span=(141, 142), match='}'>\n",
      "<re.Match object; span=(142, 143), match=' '>\n",
      "<re.Match object; span=(143, 144), match='['>\n",
      "<re.Match object; span=(144, 145), match=']'>\n",
      "<re.Match object; span=(145, 146), match=' '>\n",
      "<re.Match object; span=(146, 147), match='\\\\'>\n",
      "<re.Match object; span=(147, 148), match=' '>\n",
      "<re.Match object; span=(148, 149), match='|'>\n",
      "<re.Match object; span=(149, 150), match=' '>\n",
      "<re.Match object; span=(150, 151), match='('>\n",
      "<re.Match object; span=(151, 152), match=' '>\n",
      "<re.Match object; span=(152, 153), match=')'>\n",
      "<re.Match object; span=(155, 156), match='n'>\n",
      "<re.Match object; span=(156, 157), match='i'>\n",
      "<re.Match object; span=(157, 158), match='t'>\n",
      "<re.Match object; span=(158, 159), match='i'>\n",
      "<re.Match object; span=(159, 160), match='n'>\n",
      "<re.Match object; span=(160, 161), match='r'>\n",
      "<re.Match object; span=(161, 162), match='a'>\n",
      "<re.Match object; span=(162, 163), match='n'>\n",
      "<re.Match object; span=(163, 164), match='a'>\n",
      "<re.Match object; span=(164, 165), match='.'>\n",
      "<re.Match object; span=(165, 166), match='b'>\n",
      "<re.Match object; span=(166, 167), match='l'>\n",
      "<re.Match object; span=(167, 168), match='o'>\n",
      "<re.Match object; span=(168, 169), match='g'>\n",
      "<re.Match object; span=(169, 170), match='s'>\n",
      "<re.Match object; span=(170, 171), match='p'>\n",
      "<re.Match object; span=(171, 172), match='o'>\n",
      "<re.Match object; span=(172, 173), match='t'>\n",
      "<re.Match object; span=(173, 174), match='.'>\n",
      "<re.Match object; span=(174, 175), match='c'>\n",
      "<re.Match object; span=(175, 176), match='o'>\n",
      "<re.Match object; span=(176, 177), match='m'>\n",
      "<re.Match object; span=(177, 178), match=' '>\n",
      "<re.Match object; span=(180, 181), match='1'>\n",
      "<re.Match object; span=(181, 182), match='2'>\n",
      "<re.Match object; span=(182, 183), match='3'>\n",
      "<re.Match object; span=(183, 184), match='-'>\n",
      "<re.Match object; span=(184, 185), match='4'>\n",
      "<re.Match object; span=(185, 186), match='5'>\n",
      "<re.Match object; span=(186, 187), match='6'>\n",
      "<re.Match object; span=(187, 188), match='-'>\n",
      "<re.Match object; span=(188, 189), match='7'>\n",
      "<re.Match object; span=(189, 190), match='8'>\n",
      "<re.Match object; span=(190, 191), match='9'>\n",
      "<re.Match object; span=(192, 193), match='1'>\n",
      "<re.Match object; span=(193, 194), match='2'>\n",
      "<re.Match object; span=(194, 195), match='3'>\n",
      "<re.Match object; span=(195, 196), match='.'>\n",
      "<re.Match object; span=(196, 197), match='1'>\n",
      "<re.Match object; span=(197, 198), match='2'>\n",
      "<re.Match object; span=(198, 199), match='3'>\n",
      "<re.Match object; span=(199, 200), match='.'>\n",
      "<re.Match object; span=(200, 201), match='4'>\n",
      "<re.Match object; span=(201, 202), match='5'>\n",
      "<re.Match object; span=(202, 203), match='6'>\n",
      "<re.Match object; span=(203, 204), match='7'>\n",
      "<re.Match object; span=(206, 207), match='M'>\n",
      "<re.Match object; span=(207, 208), match='r'>\n",
      "<re.Match object; span=(208, 209), match='.'>\n",
      "<re.Match object; span=(209, 210), match=' '>\n",
      "<re.Match object; span=(210, 211), match='N'>\n",
      "<re.Match object; span=(211, 212), match='i'>\n",
      "<re.Match object; span=(212, 213), match='t'>\n",
      "<re.Match object; span=(213, 214), match='i'>\n",
      "<re.Match object; span=(214, 215), match='n'>\n",
      "<re.Match object; span=(215, 216), match=' '>\n",
      "<re.Match object; span=(217, 218), match='M'>\n",
      "<re.Match object; span=(218, 219), match='r'>\n",
      "<re.Match object; span=(219, 220), match=' '>\n",
      "<re.Match object; span=(220, 221), match='N'>\n",
      "<re.Match object; span=(221, 222), match='i'>\n",
      "<re.Match object; span=(222, 223), match='t'>\n",
      "<re.Match object; span=(223, 224), match='i'>\n",
      "<re.Match object; span=(224, 225), match='n'>\n",
      "<re.Match object; span=(227, 228), match='M'>\n",
      "<re.Match object; span=(228, 229), match='r'>\n",
      "<re.Match object; span=(229, 230), match=' '>\n",
      "<re.Match object; span=(230, 231), match='R'>\n",
      "<re.Match object; span=(231, 232), match='a'>\n",
      "<re.Match object; span=(232, 233), match='n'>\n",
      "<re.Match object; span=(233, 234), match='a'>\n",
      "<re.Match object; span=(234, 235), match=' '>\n",
      "<re.Match object; span=(236, 237), match='M'>\n",
      "<re.Match object; span=(237, 238), match='r'>\n",
      "<re.Match object; span=(238, 239), match='s'>\n",
      "<re.Match object; span=(239, 240), match=' '>\n",
      "<re.Match object; span=(240, 241), match='R'>\n",
      "<re.Match object; span=(241, 242), match='a'>\n",
      "<re.Match object; span=(242, 243), match='n'>\n",
      "<re.Match object; span=(243, 244), match='a'>\n",
      "<re.Match object; span=(244, 245), match=' '>\n",
      "<re.Match object; span=(247, 248), match='M'>\n",
      "<re.Match object; span=(248, 249), match='r'>\n",
      "<re.Match object; span=(249, 250), match='.'>\n",
      "<re.Match object; span=(250, 251), match=' '>\n",
      "<re.Match object; span=(251, 252), match='T'>\n"
     ]
    }
   ],
   "source": [
    "pattern = re.compile(r'.') # dot means all characters\n",
    "\n",
    "matches = pattern.finditer(text_to_search) ## finditer() will help to find all matches \n",
    "\n",
    "for match in matches:\n",
    "    print (match)"
   ]
  },
  {
   "cell_type": "code",
   "execution_count": 13,
   "metadata": {},
   "outputs": [
    {
     "name": "stdout",
     "output_type": "stream",
     "text": [
      "<re.Match object; span=(127, 128), match='.'>\n",
      "<re.Match object; span=(164, 165), match='.'>\n",
      "<re.Match object; span=(173, 174), match='.'>\n",
      "<re.Match object; span=(195, 196), match='.'>\n",
      "<re.Match object; span=(199, 200), match='.'>\n",
      "<re.Match object; span=(208, 209), match='.'>\n",
      "<re.Match object; span=(249, 250), match='.'>\n"
     ]
    }
   ],
   "source": [
    "pattern = re.compile(r'\\.') # Look for dot (.) using Escape Character since . is a special charater in RegEx \n",
    "\n",
    "matches = pattern.finditer(text_to_search) ## finditer() will help to find all matches \n",
    "\n",
    "for match in matches:\n",
    "    print (match)"
   ]
  },
  {
   "cell_type": "code",
   "execution_count": 14,
   "metadata": {},
   "outputs": [
    {
     "name": "stdout",
     "output_type": "stream",
     "text": [
      "<re.Match object; span=(155, 177), match='nitinrana.blogspot.com'>\n"
     ]
    }
   ],
   "source": [
    "pattern = re.compile(r'nitinrana\\.blogspot\\.com') # Look for dot (.) using Escape Character since . is a special charater in RegEx \n",
    "\n",
    "matches = pattern.finditer(text_to_search) ## finditer() will help to find all matches \n",
    "\n",
    "for match in matches:\n",
    "    print (match)\n",
    "\n",
    " "
   ]
  },
  {
   "cell_type": "code",
   "execution_count": 16,
   "metadata": {},
   "outputs": [
    {
     "name": "stdout",
     "output_type": "stream",
     "text": [
      "nitinrana.blogspot.com\n"
     ]
    }
   ],
   "source": [
    "print(text_to_search[155:177])"
   ]
  },
  {
   "cell_type": "markdown",
   "metadata": {},
   "source": [
    "\n",
    "\n",
    "## Now Lets Look into Pattern Search"
   ]
  },
  {
   "cell_type": "markdown",
   "metadata": {},
   "source": [
    ". - Any Character except New Line \n",
    "\n",
    "\\d - Digit (0-9)\n",
    "\n",
    "\\D - Not a Digit (0-9) \n",
    "\n",
    "\\w - Word Character (a-x, A-Z, 0-9, _) \n",
    "\n",
    "\\W - Not a Word Character \n",
    "\n",
    "\\s - Whitespace (space, tab, newline)\n",
    "\n",
    "\\S - Not Whitespace (Space, Tab, New Line) "
   ]
  },
  {
   "cell_type": "code",
   "execution_count": 27,
   "metadata": {},
   "outputs": [
    {
     "name": "stdout",
     "output_type": "stream",
     "text": [
      "<re.Match object; span=(1, 2), match='a'>\n",
      "<re.Match object; span=(2, 3), match='b'>\n",
      "<re.Match object; span=(3, 4), match='c'>\n",
      "<re.Match object; span=(4, 5), match='d'>\n",
      "<re.Match object; span=(5, 6), match='e'>\n",
      "<re.Match object; span=(6, 7), match='f'>\n",
      "<re.Match object; span=(7, 8), match='g'>\n",
      "<re.Match object; span=(8, 9), match='h'>\n",
      "<re.Match object; span=(9, 10), match='i'>\n",
      "<re.Match object; span=(10, 11), match='j'>\n",
      "<re.Match object; span=(11, 12), match='k'>\n",
      "<re.Match object; span=(12, 13), match='l'>\n",
      "<re.Match object; span=(13, 14), match='m'>\n",
      "<re.Match object; span=(14, 15), match='n'>\n",
      "<re.Match object; span=(15, 16), match='o'>\n",
      "<re.Match object; span=(16, 17), match='p'>\n",
      "<re.Match object; span=(17, 18), match='q'>\n",
      "<re.Match object; span=(18, 19), match='r'>\n",
      "<re.Match object; span=(19, 20), match='s'>\n",
      "<re.Match object; span=(20, 21), match='t'>\n",
      "<re.Match object; span=(21, 22), match='u'>\n",
      "<re.Match object; span=(22, 23), match='v'>\n",
      "<re.Match object; span=(23, 24), match='w'>\n",
      "<re.Match object; span=(24, 25), match='x'>\n",
      "<re.Match object; span=(25, 26), match='y'>\n",
      "<re.Match object; span=(26, 27), match='z'>\n",
      "<re.Match object; span=(28, 29), match='A'>\n",
      "<re.Match object; span=(29, 30), match='B'>\n",
      "<re.Match object; span=(30, 31), match='C'>\n",
      "<re.Match object; span=(31, 32), match='D'>\n",
      "<re.Match object; span=(32, 33), match='E'>\n",
      "<re.Match object; span=(33, 34), match='F'>\n",
      "<re.Match object; span=(34, 35), match='G'>\n",
      "<re.Match object; span=(35, 36), match='H'>\n",
      "<re.Match object; span=(36, 37), match='I'>\n",
      "<re.Match object; span=(37, 38), match='J'>\n",
      "<re.Match object; span=(38, 39), match='K'>\n",
      "<re.Match object; span=(39, 40), match='L'>\n",
      "<re.Match object; span=(40, 41), match='M'>\n",
      "<re.Match object; span=(41, 42), match='N'>\n",
      "<re.Match object; span=(42, 43), match='O'>\n",
      "<re.Match object; span=(43, 44), match='P'>\n",
      "<re.Match object; span=(44, 45), match='Q'>\n",
      "<re.Match object; span=(45, 46), match='R'>\n",
      "<re.Match object; span=(46, 47), match='S'>\n",
      "<re.Match object; span=(47, 48), match='T'>\n",
      "<re.Match object; span=(48, 49), match='U'>\n",
      "<re.Match object; span=(49, 50), match='V'>\n",
      "<re.Match object; span=(50, 51), match='W'>\n",
      "<re.Match object; span=(51, 52), match='X'>\n",
      "<re.Match object; span=(52, 53), match='Y'>\n",
      "<re.Match object; span=(53, 54), match='Z'>\n",
      "<re.Match object; span=(55, 56), match='1'>\n",
      "<re.Match object; span=(56, 57), match='2'>\n",
      "<re.Match object; span=(57, 58), match='3'>\n",
      "<re.Match object; span=(58, 59), match='4'>\n",
      "<re.Match object; span=(59, 60), match='5'>\n",
      "<re.Match object; span=(60, 61), match='6'>\n",
      "<re.Match object; span=(61, 62), match='7'>\n",
      "<re.Match object; span=(62, 63), match='8'>\n",
      "<re.Match object; span=(63, 64), match='9'>\n",
      "<re.Match object; span=(64, 65), match='0'>\n",
      "<re.Match object; span=(67, 68), match='H'>\n",
      "<re.Match object; span=(68, 69), match='a'>\n",
      "<re.Match object; span=(70, 71), match='H'>\n",
      "<re.Match object; span=(71, 72), match='a'>\n",
      "<re.Match object; span=(72, 73), match='H'>\n",
      "<re.Match object; span=(73, 74), match='a'>\n",
      "<re.Match object; span=(76, 77), match='M'>\n",
      "<re.Match object; span=(77, 78), match='e'>\n",
      "<re.Match object; span=(78, 79), match='t'>\n",
      "<re.Match object; span=(79, 80), match='a'>\n",
      "<re.Match object; span=(80, 81), match='C'>\n",
      "<re.Match object; span=(81, 82), match='h'>\n",
      "<re.Match object; span=(82, 83), match='a'>\n",
      "<re.Match object; span=(83, 84), match='r'>\n",
      "<re.Match object; span=(84, 85), match='a'>\n",
      "<re.Match object; span=(85, 86), match='c'>\n",
      "<re.Match object; span=(86, 87), match='t'>\n",
      "<re.Match object; span=(87, 88), match='e'>\n",
      "<re.Match object; span=(88, 89), match='r'>\n",
      "<re.Match object; span=(89, 90), match='s'>\n",
      "<re.Match object; span=(91, 92), match='('>\n",
      "<re.Match object; span=(92, 93), match='N'>\n",
      "<re.Match object; span=(93, 94), match='e'>\n",
      "<re.Match object; span=(94, 95), match='e'>\n",
      "<re.Match object; span=(95, 96), match='d'>\n",
      "<re.Match object; span=(97, 98), match='t'>\n",
      "<re.Match object; span=(98, 99), match='o'>\n",
      "<re.Match object; span=(100, 101), match='b'>\n",
      "<re.Match object; span=(101, 102), match='e'>\n",
      "<re.Match object; span=(103, 104), match='E'>\n",
      "<re.Match object; span=(104, 105), match='s'>\n",
      "<re.Match object; span=(105, 106), match='c'>\n",
      "<re.Match object; span=(106, 107), match='a'>\n",
      "<re.Match object; span=(107, 108), match='p'>\n",
      "<re.Match object; span=(108, 109), match='e'>\n",
      "<re.Match object; span=(109, 110), match='d'>\n",
      "<re.Match object; span=(111, 112), match='d'>\n",
      "<re.Match object; span=(112, 113), match='u'>\n",
      "<re.Match object; span=(113, 114), match='r'>\n",
      "<re.Match object; span=(114, 115), match='i'>\n",
      "<re.Match object; span=(115, 116), match='n'>\n",
      "<re.Match object; span=(116, 117), match='g'>\n",
      "<re.Match object; span=(118, 119), match='S'>\n",
      "<re.Match object; span=(119, 120), match='e'>\n",
      "<re.Match object; span=(120, 121), match='a'>\n",
      "<re.Match object; span=(121, 122), match='r'>\n",
      "<re.Match object; span=(122, 123), match='c'>\n",
      "<re.Match object; span=(123, 124), match='h'>\n",
      "<re.Match object; span=(124, 125), match=')'>\n",
      "<re.Match object; span=(127, 128), match='.'>\n",
      "<re.Match object; span=(129, 130), match='^'>\n",
      "<re.Match object; span=(131, 132), match='$'>\n",
      "<re.Match object; span=(133, 134), match='*'>\n",
      "<re.Match object; span=(135, 136), match='+'>\n",
      "<re.Match object; span=(137, 138), match='?'>\n",
      "<re.Match object; span=(139, 140), match='{'>\n",
      "<re.Match object; span=(141, 142), match='}'>\n",
      "<re.Match object; span=(143, 144), match='['>\n",
      "<re.Match object; span=(144, 145), match=']'>\n",
      "<re.Match object; span=(146, 147), match='\\\\'>\n",
      "<re.Match object; span=(148, 149), match='|'>\n",
      "<re.Match object; span=(150, 151), match='('>\n",
      "<re.Match object; span=(152, 153), match=')'>\n",
      "<re.Match object; span=(155, 156), match='n'>\n",
      "<re.Match object; span=(156, 157), match='i'>\n",
      "<re.Match object; span=(157, 158), match='t'>\n",
      "<re.Match object; span=(158, 159), match='i'>\n",
      "<re.Match object; span=(159, 160), match='n'>\n",
      "<re.Match object; span=(160, 161), match='r'>\n",
      "<re.Match object; span=(161, 162), match='a'>\n",
      "<re.Match object; span=(162, 163), match='n'>\n",
      "<re.Match object; span=(163, 164), match='a'>\n",
      "<re.Match object; span=(164, 165), match='.'>\n",
      "<re.Match object; span=(165, 166), match='b'>\n",
      "<re.Match object; span=(166, 167), match='l'>\n",
      "<re.Match object; span=(167, 168), match='o'>\n",
      "<re.Match object; span=(168, 169), match='g'>\n",
      "<re.Match object; span=(169, 170), match='s'>\n",
      "<re.Match object; span=(170, 171), match='p'>\n",
      "<re.Match object; span=(171, 172), match='o'>\n",
      "<re.Match object; span=(172, 173), match='t'>\n",
      "<re.Match object; span=(173, 174), match='.'>\n",
      "<re.Match object; span=(174, 175), match='c'>\n",
      "<re.Match object; span=(175, 176), match='o'>\n",
      "<re.Match object; span=(176, 177), match='m'>\n",
      "<re.Match object; span=(180, 181), match='1'>\n",
      "<re.Match object; span=(181, 182), match='2'>\n",
      "<re.Match object; span=(182, 183), match='3'>\n",
      "<re.Match object; span=(183, 184), match='-'>\n",
      "<re.Match object; span=(184, 185), match='4'>\n",
      "<re.Match object; span=(185, 186), match='5'>\n",
      "<re.Match object; span=(186, 187), match='6'>\n",
      "<re.Match object; span=(187, 188), match='-'>\n",
      "<re.Match object; span=(188, 189), match='7'>\n",
      "<re.Match object; span=(189, 190), match='8'>\n",
      "<re.Match object; span=(190, 191), match='9'>\n",
      "<re.Match object; span=(192, 193), match='1'>\n",
      "<re.Match object; span=(193, 194), match='2'>\n",
      "<re.Match object; span=(194, 195), match='3'>\n",
      "<re.Match object; span=(195, 196), match='.'>\n",
      "<re.Match object; span=(196, 197), match='1'>\n",
      "<re.Match object; span=(197, 198), match='2'>\n",
      "<re.Match object; span=(198, 199), match='3'>\n",
      "<re.Match object; span=(199, 200), match='.'>\n",
      "<re.Match object; span=(200, 201), match='4'>\n",
      "<re.Match object; span=(201, 202), match='5'>\n",
      "<re.Match object; span=(202, 203), match='6'>\n",
      "<re.Match object; span=(203, 204), match='7'>\n",
      "<re.Match object; span=(206, 207), match='M'>\n",
      "<re.Match object; span=(207, 208), match='r'>\n",
      "<re.Match object; span=(208, 209), match='.'>\n",
      "<re.Match object; span=(210, 211), match='N'>\n",
      "<re.Match object; span=(211, 212), match='i'>\n",
      "<re.Match object; span=(212, 213), match='t'>\n",
      "<re.Match object; span=(213, 214), match='i'>\n",
      "<re.Match object; span=(214, 215), match='n'>\n",
      "<re.Match object; span=(217, 218), match='M'>\n",
      "<re.Match object; span=(218, 219), match='r'>\n",
      "<re.Match object; span=(220, 221), match='N'>\n",
      "<re.Match object; span=(221, 222), match='i'>\n",
      "<re.Match object; span=(222, 223), match='t'>\n",
      "<re.Match object; span=(223, 224), match='i'>\n",
      "<re.Match object; span=(224, 225), match='n'>\n",
      "<re.Match object; span=(225, 226), match='_'>\n",
      "<re.Match object; span=(226, 227), match='R'>\n",
      "<re.Match object; span=(227, 228), match='a'>\n",
      "<re.Match object; span=(228, 229), match='n'>\n",
      "<re.Match object; span=(229, 230), match='a'>\n",
      "<re.Match object; span=(232, 233), match='M'>\n",
      "<re.Match object; span=(233, 234), match='r'>\n",
      "<re.Match object; span=(235, 236), match='R'>\n",
      "<re.Match object; span=(236, 237), match='a'>\n",
      "<re.Match object; span=(237, 238), match='n'>\n",
      "<re.Match object; span=(238, 239), match='a'>\n",
      "<re.Match object; span=(241, 242), match='M'>\n",
      "<re.Match object; span=(242, 243), match='r'>\n",
      "<re.Match object; span=(243, 244), match='s'>\n",
      "<re.Match object; span=(245, 246), match='R'>\n",
      "<re.Match object; span=(246, 247), match='a'>\n",
      "<re.Match object; span=(247, 248), match='n'>\n",
      "<re.Match object; span=(248, 249), match='a'>\n",
      "<re.Match object; span=(252, 253), match='M'>\n",
      "<re.Match object; span=(253, 254), match='r'>\n",
      "<re.Match object; span=(254, 255), match='.'>\n",
      "<re.Match object; span=(256, 257), match='T'>\n"
     ]
    }
   ],
   "source": [
    "#pattern = re.compile(r'.') # Search Everything \n",
    "#pattern = re.compile(r'\\d') # Search only digits \n",
    "#pattern = re.compile(r'\\D') # Search not a digit\n",
    "#pattern = re.compile(r'\\w') # Search Word CHaracted \n",
    "#pattern = re.compile(r'\\W') # Not a Word Character \n",
    "#pattern = re.compile(r'\\s') # Not a Word Character \n",
    "pattern = re.compile(r'\\S') # Not a Word Character \n",
    "\n",
    "matches = pattern.finditer(text_to_search) ## finditer() will help to find all matches \n",
    "\n",
    "for match in matches:\n",
    "    print (match)"
   ]
  },
  {
   "cell_type": "markdown",
   "metadata": {},
   "source": [
    "### Setting up Anchors in RegEx. These are not search patterns but rather acts as anchor to define the behavior. They are used in conjunction with other pattern as explained above\n",
    "\n",
    "\\b - Word Boundary\n",
    "\n",
    "\\B - Not a Word Boundary \n",
    "\n",
    "^ - Beginning of a String \n",
    "\n",
    "$ - End of the string\n",
    "\n"
   ]
  },
  {
   "cell_type": "code",
   "execution_count": 29,
   "metadata": {},
   "outputs": [
    {
     "name": "stdout",
     "output_type": "stream",
     "text": [
      "<re.Match object; span=(72, 74), match='Ha'>\n"
     ]
    }
   ],
   "source": [
    "#pattern = re.compile(r'\\bHa') \n",
    "pattern = re.compile(r'\\BHa') \n",
    "\n",
    "matches = pattern.finditer(text_to_search) ## finditer() will help to find all matches \n",
    "\n",
    "for match in matches:\n",
    "    print (match)"
   ]
  },
  {
   "cell_type": "code",
   "execution_count": 33,
   "metadata": {},
   "outputs": [
    {
     "name": "stdout",
     "output_type": "stream",
     "text": [
      "<re.Match object; span=(41, 44), match='end'>\n"
     ]
    }
   ],
   "source": [
    "sentence = 'Start a sentence and then bring it to an end'\n",
    "#pattern = re.compile(r'^Start') \n",
    "#pattern = re.compile(r'end$') \n",
    "\n",
    "matches = pattern.finditer(sentence) ## finditer() will help to find all matches \n",
    "\n",
    "for match in matches:\n",
    "    print (match)"
   ]
  },
  {
   "cell_type": "code",
   "execution_count": 54,
   "metadata": {},
   "outputs": [
    {
     "name": "stdout",
     "output_type": "stream",
     "text": [
      "<re.Match object; span=(324, 327), match='bat'>\n"
     ]
    }
   ],
   "source": [
    "# Seach for a Phone NUmber \n",
    "#pattern = re.compile(r'\\d\\d\\d')\n",
    "#pattern = re.compile(r'\\d\\d\\d.\\d\\d\\d.\\d\\d\\d\\d') # . searches for any character which may not be correct \n",
    "#pattern = re.compile(r'\\d\\d\\d[-.]\\d\\d\\d[-.]\\d\\d\\d\\d') # . searches for only dash(-) or dot(.) as a separator for phone number\n",
    "#pattern = re.compile(r'[89]00[-.]\\d\\d\\d[-.]\\d\\d\\d\\d') # . searches for Phone Starting with 800 or 900\n",
    "\n",
    "# Using Hyphen to define a Range inside the character set []\n",
    "#pattern = re.compile(r'[a-zA-Z]') # searches for a single character between a-z or A-Z\n",
    "#pattern = re.compile(r'[^a-zA-Z]') # a Carrot Sign inside the character Set Negates the items in Character Set while Searching\n",
    "\n",
    "#Find 3 letter words that ends with \"at\" such as cat mat etc... but not bat\n",
    "#pattern = re.compile(r'[^b]at') # bat will not be found\n",
    "#pattern = re.compile(r'[b]at') # Only bat will be found\n",
    "\n",
    "matches = pattern.finditer(text_to_search) ## finditer() will help to find all matches \n",
    "\n",
    "for match in matches:\n",
    "    print (match)"
   ]
  },
  {
   "cell_type": "markdown",
   "metadata": {},
   "source": [
    "#### Use Quantifier to Describe Repetition of the Pattern\n",
    "\n",
    "\n",
    "###### Quantifier Listing\n",
    "\n",
    "\"*\" 0 or More \n",
    "\n",
    "\"+\" 1 or More\n",
    "\n",
    "\"?\" - 0 or One \n",
    "\n",
    "{3} - Exact Number \n",
    "\n",
    "{3,4} - Range of Numbers (Minimum, Maximum)\n",
    "\n",
    "[] - Always Searches for single character \n"
   ]
  },
  {
   "cell_type": "code",
   "execution_count": 64,
   "metadata": {},
   "outputs": [
    {
     "name": "stdout",
     "output_type": "stream",
     "text": [
      "<re.Match object; span=(259, 268), match='Mr. Nitin'>\n",
      "<re.Match object; span=(270, 283), match='Mr Nitin_Rana'>\n",
      "<re.Match object; span=(294, 301), match='Mr Rana'>\n",
      "<re.Match object; span=(314, 319), match='Mr. T'>\n"
     ]
    }
   ],
   "source": [
    "#pattern = re.compile(r'\\d\\d\\d.\\d\\d\\d.\\d\\d\\d\\d') # Find all numbers in the XXX XXX XXXX format (Separator can be any character)\n",
    "\n",
    "#pattern = re.compile(r'\\d{3}.\\d{3}.\\d{4}') # Find all numbers in the XXX XXX XXXX format (Separator can be any character)\n",
    "\n",
    "\n",
    "# Search for Mr/Ms \n",
    "#pattern = re.compile(r'Mr\\.') # Find all numbers in the XXX XXX XXXX format (Separator can be any character)\n",
    "pattern = re.compile(r'Mr\\.?\\s[A-Z]\\w*') # Find all numbers in the XXX XXX XXXX format (Separator can be any character)\n",
    "\n",
    "matches = pattern.finditer(text_to_search) ## finditer() will help to find all matches \n",
    "\n",
    "for match in matches:\n",
    "    print (match)"
   ]
  },
  {
   "cell_type": "markdown",
   "metadata": {},
   "source": [
    "#### Create a Group Pattern so multiple Pattern can be added in one Go rather than multiple Search Pattern Setups"
   ]
  },
  {
   "cell_type": "code",
   "execution_count": 66,
   "metadata": {},
   "outputs": [
    {
     "name": "stdout",
     "output_type": "stream",
     "text": [
      "<re.Match object; span=(259, 268), match='Mr. Nitin'>\n",
      "<re.Match object; span=(270, 283), match='Mr Nitin_Rana'>\n",
      "<re.Match object; span=(285, 293), match='Ms Smith'>\n",
      "<re.Match object; span=(294, 301), match='Mr Rana'>\n",
      "<re.Match object; span=(303, 311), match='Mrs Rana'>\n",
      "<re.Match object; span=(314, 319), match='Mr. T'>\n"
     ]
    }
   ],
   "source": [
    "#pattern = re.compile(r'M(r|s|rs)\\.?\\s[A-Z]\\w*') # Find all numbers in the XXX XXX XXXX format (Separator can be any character)\n",
    "\n",
    "pattern = re.compile(r'(Mr|Ms|Mrs)\\.?\\s[A-Z]\\w*') # Find all numbers in the XXX XXX XXXX format (Separator can be any character)\n",
    "\n",
    "matches = pattern.finditer(text_to_search) ## finditer() will help to find all matches \n",
    "\n",
    "for match in matches:\n",
    "    print (match)"
   ]
  },
  {
   "cell_type": "markdown",
   "metadata": {},
   "source": [
    "#### Load data.txt file for Pattern Searches"
   ]
  },
  {
   "cell_type": "code",
   "execution_count": 45,
   "metadata": {},
   "outputs": [
    {
     "name": "stdout",
     "output_type": "stream",
     "text": [
      "<re.Match object; span=(102, 114), match='800-555-5669'>\n",
      "<re.Match object; span=(281, 293), match='900-555-9340'>\n",
      "<re.Match object; span=(467, 479), match='800-555-6771'>\n",
      "<re.Match object; span=(1093, 1105), match='900-555-3205'>\n",
      "<re.Match object; span=(1443, 1455), match='800-555-6089'>\n",
      "<re.Match object; span=(1794, 1806), match='800-555-7100'>\n",
      "<re.Match object; span=(2055, 2067), match='900-555-5118'>\n",
      "<re.Match object; span=(2830, 2842), match='900-555-5428'>\n",
      "<re.Match object; span=(3290, 3302), match='800-555-8810'>\n",
      "<re.Match object; span=(3977, 3989), match='900-555-9598'>\n",
      "<re.Match object; span=(4951, 4963), match='800-555-2420'>\n",
      "<re.Match object; span=(5572, 5584), match='900-555-3567'>\n",
      "<re.Match object; span=(6195, 6207), match='800-555-3216'>\n",
      "<re.Match object; span=(6897, 6909), match='900-555-7755'>\n",
      "<re.Match object; span=(7872, 7884), match='800-555-1372'>\n",
      "<re.Match object; span=(8751, 8763), match='900-555-6426'>\n"
     ]
    }
   ],
   "source": [
    "# Seach for a Phone NUmber \n",
    "#pattern = re.compile(r'\\d\\d\\d')\n",
    "#pattern = re.compile(r'\\d\\d\\d.\\d\\d\\d.\\d\\d\\d\\d') # . searches for any character which may not be correct \n",
    "pattern = re.compile(r'[89]00[-.]\\d\\d\\d[-.]\\d\\d\\d\\d')\n",
    "\n",
    "with open ('data.txt', 'r') as f:\n",
    "    contents = f.read() \n",
    "    \n",
    "    matches = pattern.finditer(contents) ## finditer() will help to find all matches \n",
    "    \n",
    "    for match in matches:\n",
    "        print (match)\n",
    "\n",
    "f.close ()"
   ]
  },
  {
   "cell_type": "markdown",
   "metadata": {},
   "source": [
    "#### RegEx for email Search"
   ]
  },
  {
   "cell_type": "code",
   "execution_count": 90,
   "metadata": {},
   "outputs": [],
   "source": [
    "emails = '''\n",
    "nitinrana@gmail.com\n",
    "nitin.rana@gmail.com\n",
    "nitin.rana@stern.nyu.edu \n",
    "nr743@stern.nyu.edu\n",
    "nitinrana1976@yahoo.co.uk\n",
    "nitin-rana@ocp.com\n",
    "'''"
   ]
  },
  {
   "cell_type": "code",
   "execution_count": 91,
   "metadata": {},
   "outputs": [
    {
     "name": "stdout",
     "output_type": "stream",
     "text": [
      "<re.Match object; span=(1, 20), match='nitinrana@gmail.com'>\n",
      "<re.Match object; span=(21, 41), match='nitin.rana@gmail.com'>\n",
      "<re.Match object; span=(42, 66), match='nitin.rana@stern.nyu.edu'>\n",
      "<re.Match object; span=(68, 87), match='nr743@stern.nyu.edu'>\n",
      "<re.Match object; span=(88, 113), match='nitinrana1976@yahoo.co.uk'>\n",
      "<re.Match object; span=(114, 132), match='nitin-rana@ocp.com'>\n"
     ]
    }
   ],
   "source": [
    "#pattern = re.compile(r'[a-zA-Z]+@[a-zA-Z]+\\.com') # Simplest Case\n",
    "#pattern = re.compile(r'[a-zA-Z0-9.]+@[a-zA-Z]+\\.com') # Put Number and dot also in search before @ sign\n",
    "\n",
    "#pattern = re.compile(r'[a-zA-Z0-9.]+@[a-zA-Z]+\\.(com|edu|co.uk)') \n",
    "\n",
    "pattern = re.compile(r'[a-zA-Z0-9_.+-]+@[a-zA-Z0-9-]+\\.[a-zA-Z0-9-.]+')\n",
    "\n",
    "matches = pattern.finditer(emails) ## finditer() will help to find all matches \n",
    "\n",
    "for match in matches:\n",
    "    print (match)"
   ]
  },
  {
   "cell_type": "markdown",
   "metadata": {},
   "source": [
    "\n",
    "\n",
    "### Once the Pattern is Found, Now time to retrieve the search strings"
   ]
  },
  {
   "cell_type": "code",
   "execution_count": 93,
   "metadata": {},
   "outputs": [],
   "source": [
    "urls = '''\n",
    "http://nitinrana.blogspot.com\n",
    "http://www.nitinrana.blogspot.com\n",
    "https://www.nitinrana.blogspot.com\n",
    "https://www.nasa.gov \n",
    "www.cnn.com\n",
    "'''"
   ]
  },
  {
   "cell_type": "markdown",
   "metadata": {},
   "source": [
    "### Need to find High Level Domain Only"
   ]
  },
  {
   "cell_type": "code",
   "execution_count": 96,
   "metadata": {},
   "outputs": [
    {
     "name": "stdout",
     "output_type": "stream",
     "text": [
      "<re.Match object; span=(1, 26), match='http://nitinrana.blogspot'>\n",
      "<re.Match object; span=(31, 60), match='http://www.nitinrana.blogspot'>\n",
      "<re.Match object; span=(65, 95), match='https://www.nitinrana.blogspot'>\n",
      "<re.Match object; span=(100, 120), match='https://www.nasa.gov'>\n"
     ]
    }
   ],
   "source": [
    "pattern = re.compile(r'https?://(www\\.)?(\\w+)(\\.\\w+)')\n",
    "\n",
    "matches = pattern.finditer(urls) \n",
    "\n",
    "for match in matches:\n",
    "    print (match.)"
   ]
  },
  {
   "cell_type": "code",
   "execution_count": null,
   "metadata": {},
   "outputs": [],
   "source": []
  }
 ],
 "metadata": {
  "kernelspec": {
   "display_name": "Python 3",
   "language": "python",
   "name": "python3"
  },
  "language_info": {
   "codemirror_mode": {
    "name": "ipython",
    "version": 3
   },
   "file_extension": ".py",
   "mimetype": "text/x-python",
   "name": "python",
   "nbconvert_exporter": "python",
   "pygments_lexer": "ipython3",
   "version": "3.8.3"
  }
 },
 "nbformat": 4,
 "nbformat_minor": 4
}
