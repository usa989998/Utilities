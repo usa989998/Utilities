{
 "cells": [
  {
   "cell_type": "markdown",
   "metadata": {},
   "source": [
    "### Want to Read Books but Lazy to Read\n",
    "\n",
    "#### Here is a solution to read a PDF book with Python "
   ]
  },
  {
   "cell_type": "markdown",
   "metadata": {},
   "source": [
    "\n",
    "\n",
    "#### Read a Simple Text First"
   ]
  },
  {
   "cell_type": "code",
   "execution_count": null,
   "metadata": {},
   "outputs": [],
   "source": [
    "import pyttsx3\n",
    "# Initialize the library\n",
    "\n",
    "engine = pyttsx3.init()\n",
    "# specify the text you want to listen\n",
    "text=\"Covid had been a disaster for Global Economy. Lets work together and fix it\"\n",
    "engine.say(text)\n",
    "# Flush the say() queue to play the audio\n",
    "engine.runAndWait()"
   ]
  },
  {
   "cell_type": "markdown",
   "metadata": {},
   "source": [
    "\n",
    "#### Now Lets Read a PDF File"
   ]
  },
  {
   "cell_type": "code",
   "execution_count": null,
   "metadata": {},
   "outputs": [],
   "source": [
    "# Import the python text to speech libarary and the PDF Reader library\n",
    "import pyttsx3 as t\n",
    "import PyPDF4 as reader "
   ]
  },
  {
   "cell_type": "markdown",
   "metadata": {},
   "source": [
    "#### Read the PDF File in Binary Mode "
   ]
  },
  {
   "cell_type": "code",
   "execution_count": null,
   "metadata": {},
   "outputs": [],
   "source": [
    "# Read the PDF file binary mode\n",
    "pdf_file = open(r'C:\\Personal\\My Documents\\Personal\\eBooks\\Python for Data Analysis.pdf', 'rb')\n",
    "read_pdf = reader.PdfFileReader(pdf_file, strict=False)"
   ]
  },
  {
   "cell_type": "code",
   "execution_count": null,
   "metadata": {},
   "outputs": [],
   "source": [
    "#Find the number of pages in the PDF document\n",
    "number_of_pages = read_pdf.getNumPages()\n",
    "# init function to get an engine instance for the speech synthesis  \n",
    "engine = t.init()"
   ]
  },
  {
   "cell_type": "markdown",
   "metadata": {},
   "source": [
    "### We will read the Chapter 4 on Numpy which is from 79 to 109 Page"
   ]
  },
  {
   "cell_type": "code",
   "execution_count": null,
   "metadata": {},
   "outputs": [],
   "source": [
    "# Read from page 3 to the end of the PDF document\n",
    "for i in range(79, 80): #if you want to to read till end of the book then you should use number_of_pages \n",
    "    # Read the PDF page \n",
    "    page = read_pdf.getPage(i)\n",
    "    \n",
    "    # Extract the text of the PDF page \n",
    "    page_content = page.extractText()\n",
    "        \n",
    "    # say method on the engine that passing input text to be spoken \n",
    "    engine.say(page_content) \n",
    "    \n",
    "    # run and wait method to processes the voice commands.  \n",
    "    engine.runAndWait()"
   ]
  },
  {
   "cell_type": "code",
   "execution_count": null,
   "metadata": {},
   "outputs": [],
   "source": []
  }
 ],
 "metadata": {
  "kernelspec": {
   "display_name": "Python 3",
   "language": "python",
   "name": "python3"
  },
  "language_info": {
   "codemirror_mode": {
    "name": "ipython",
    "version": 3
   },
   "file_extension": ".py",
   "mimetype": "text/x-python",
   "name": "python",
   "nbconvert_exporter": "python",
   "pygments_lexer": "ipython3",
   "version": "3.8.3"
  }
 },
 "nbformat": 4,
 "nbformat_minor": 4
}
